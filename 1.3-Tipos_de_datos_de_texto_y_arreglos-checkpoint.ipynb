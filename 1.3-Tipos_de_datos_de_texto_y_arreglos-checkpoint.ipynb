{
 "cells": [
  {
   "cell_type": "markdown",
   "id": "0f785daf",
   "metadata": {},
   "source": [
    "# Tipos de dato de texto y arreglos\n",
    "\n",
    "En este _notebook_ veremos algunos conceptos fundamentales de programación presentes en la mayoría de los lenguajes de alto nivel."
   ]
  },
  {
   "cell_type": "markdown",
   "id": "cc36e7bb",
   "metadata": {},
   "source": [
    "## Tipos de datos de texto\n",
    "\n",
    "Poder trabajar con texto siempre es deseable, pues esta funcionalidad es necesaria para, por ejemplo, poder interactuar con la persona que esté usando el programa, imprimiendo instrucciones en pantalla de qué hacer o pidiéndole que ingrese algunos datos en algún punto de la ejecución del programa.\n",
    "\n",
    "### `Char`\n",
    "\n",
    "El tipo de dato de texto primitivo en Julia es `Char`. Cualquier símbolo envuelto en comillas ' ' será considerado como un dato de tipo `Char`:"
   ]
  },
  {
   "cell_type": "code",
   "execution_count": 1,
   "id": "24db7b73",
   "metadata": {},
   "outputs": [
    {
     "data": {
      "text/plain": [
       "'a': ASCII/Unicode U+0061 (category Ll: Letter, lowercase)"
      ]
     },
     "execution_count": 1,
     "metadata": {},
     "output_type": "execute_result"
    }
   ],
   "source": [
    "'a'"
   ]
  },
  {
   "cell_type": "code",
   "execution_count": 2,
   "id": "dcec22eb",
   "metadata": {},
   "outputs": [
    {
     "data": {
      "text/plain": [
       "Char"
      ]
     },
     "execution_count": 2,
     "metadata": {},
     "output_type": "execute_result"
    }
   ],
   "source": [
    "typeof('a')"
   ]
  },
  {
   "cell_type": "markdown",
   "id": "f0e7c7fa",
   "metadata": {},
   "source": [
    "La primera celda nos revela que Julia interpreta el símbolo `a` según su clave de [Unicode](https://en.wikipedia.org/wiki/Unicode), el cual es un estándar mundial que asigna una clave única a 144,697 caracteres en alrededor de 159 idiomas.\n",
    "\n",
    "Muchos símbolos con clave Unicode que pueden ser escritos con un comando de LaTeX también se pueden escribir en Julia con el mismo comando usando \"auto completación\" con la tecla TAB. Por ejemplo, para escribir $\\alpha$ en el REPL de Julia o en una celda de Jupyter, basta escribir el comando de LaTeX `\\alpha` y luego presionar la tecla TAB:"
   ]
  },
  {
   "cell_type": "code",
   "execution_count": 5,
   "id": "6a750426",
   "metadata": {},
   "outputs": [
    {
     "ename": "LoadError",
     "evalue": "UndefVarError: α not defined",
     "output_type": "error",
     "traceback": [
      "UndefVarError: α not defined",
      ""
     ]
    }
   ],
   "source": [
    " α # ¡Escribe α al inicio de esta celda (sin copiar y pegar)!"
   ]
  },
  {
   "cell_type": "markdown",
   "id": "1b07844f",
   "metadata": {},
   "source": [
    "La \"auto completación\" significa que si escribimos un comando parcial de LaTeX que Julia puede representar con un caracter Unicode y presionamos la tecla TAB, aparecerá una lista con todos los comandos de LaTeX que empiezan con esas mismas letras y que pueden ser representados por un caracter Unicode."
   ]
  },
  {
   "cell_type": "code",
   "execution_count": 7,
   "id": "d57cd2c5",
   "metadata": {},
   "outputs": [
    {
     "ename": "LoadError",
     "evalue": "UndefVarError: ℵ not defined",
     "output_type": "error",
     "traceback": [
      "UndefVarError: ℵ not defined",
      ""
     ]
    }
   ],
   "source": [
    "ℵ # Mira las opciones presionando la tecla TAB"
   ]
  },
  {
   "cell_type": "markdown",
   "id": "0fa7834e",
   "metadata": {},
   "source": [
    "Los caracteres que pueden ser representados de esta manera se pueden consultar en la [documentación de Julia](https://docs.julialang.org/en/v1/manual/unicode-input/#Unicode-Input).\n",
    "\n",
    "Es importante recordar que todo símbolo que escribamos entre commillas ' ' será interpretado por Julia como un dato de tipo `Char` por lo que, por ejemplo, el siguiente código no funcionará"
   ]
  },
  {
   "cell_type": "code",
   "execution_count": 8,
   "id": "eba9fc6b",
   "metadata": {},
   "outputs": [
    {
     "ename": "LoadError",
     "evalue": "MethodError: no method matching +(::Char, ::Char)\n\u001b[0mClosest candidates are:\n\u001b[0m  +(::Any, ::Any, \u001b[91m::Any\u001b[39m, \u001b[91m::Any...\u001b[39m) at operators.jl:591\n\u001b[0m  +(::T, \u001b[91m::Integer\u001b[39m) where T<:AbstractChar at char.jl:237\n\u001b[0m  +(\u001b[91m::Integer\u001b[39m, ::AbstractChar) at char.jl:247",
     "output_type": "error",
     "traceback": [
      "MethodError: no method matching +(::Char, ::Char)\n\u001b[0mClosest candidates are:\n\u001b[0m  +(::Any, ::Any, \u001b[91m::Any\u001b[39m, \u001b[91m::Any...\u001b[39m) at operators.jl:591\n\u001b[0m  +(::T, \u001b[91m::Integer\u001b[39m) where T<:AbstractChar at char.jl:237\n\u001b[0m  +(\u001b[91m::Integer\u001b[39m, ::AbstractChar) at char.jl:247",
      "",
      "Stacktrace:",
      " [1] top-level scope",
      "   @ In[8]:1"
     ]
    }
   ],
   "source": [
    "'5' + '3' # Julia los interpreta como Char, no como Int"
   ]
  },
  {
   "cell_type": "markdown",
   "id": "c06ceaf7",
   "metadata": {},
   "source": [
    "pues el operador `+` no está definido para datos de tipo `Char`."
   ]
  },
  {
   "cell_type": "markdown",
   "id": "4e4de5de",
   "metadata": {},
   "source": [
    "### `print` y `println`\n",
    "\n",
    "Las principales funciones para imprimir caracteres en Julia son `print` y `println`. La diferencia entre ellas es que `println` crea una _nueva línea_ después de haber impreso el caracter de su argumento."
   ]
  },
  {
   "cell_type": "code",
   "execution_count": 9,
   "id": "87e182cf",
   "metadata": {},
   "outputs": [
    {
     "name": "stdout",
     "output_type": "stream",
     "text": [
      "a b"
     ]
    }
   ],
   "source": [
    "print('a')\n",
    "print(' ')\n",
    "print('b')\n",
    "# Compara el resultado de esta celda..."
   ]
  },
  {
   "cell_type": "code",
   "execution_count": 12,
   "id": "08cb057c",
   "metadata": {},
   "outputs": [
    {
     "name": "stdout",
     "output_type": "stream",
     "text": [
      "a\n",
      " \n",
      "b"
     ]
    }
   ],
   "source": [
    "# ...con el de ésta.\n",
    "println('a')\n",
    "println(' ')\n",
    "print('b')"
   ]
  },
  {
   "cell_type": "markdown",
   "id": "2e36f9bb",
   "metadata": {},
   "source": [
    "### `String`\n",
    "\n",
    "Trabajar texto siempre a nivel de caracteres resulta impráctico. Para escribir secuencias de caracteres, existe un tipo de dato llamado `String`. Para escribir un dato de tipo `String`, debemos envolver símbolos entre dobles comillas \" \":"
   ]
  },
  {
   "cell_type": "code",
   "execution_count": 13,
   "id": "d96e479d",
   "metadata": {},
   "outputs": [
    {
     "data": {
      "text/plain": [
       "\"¡Hola, mundo!\""
      ]
     },
     "execution_count": 13,
     "metadata": {},
     "output_type": "execute_result"
    }
   ],
   "source": [
    "\"¡Hola, mundo!\""
   ]
  },
  {
   "cell_type": "code",
   "execution_count": 14,
   "id": "9bfe6c65",
   "metadata": {},
   "outputs": [
    {
     "data": {
      "text/plain": [
       "String"
      ]
     },
     "execution_count": 14,
     "metadata": {},
     "output_type": "execute_result"
    }
   ],
   "source": [
    "typeof(\"¡Hola, mundo!\")"
   ]
  },
  {
   "cell_type": "markdown",
   "id": "85fe4080",
   "metadata": {},
   "source": [
    "Podemos utilizar las funciones `print` y `println` con datos de tipo `String` como lo hacíamos con los de tipo `Char`."
   ]
  },
  {
   "cell_type": "code",
   "execution_count": 15,
   "id": "9a9f9928",
   "metadata": {
    "scrolled": true
   },
   "outputs": [
    {
     "name": "stdout",
     "output_type": "stream",
     "text": [
      "¡Hola, mundo!"
     ]
    }
   ],
   "source": [
    "print(\"¡Hola, mundo!\")\n",
    "#= Este programa es típicamente lo primero que alguien aprende a hacer\n",
    "   cuando conoce un nuevo lenguaje de programación de alto nivel =#"
   ]
  },
  {
   "cell_type": "markdown",
   "id": "b6f72cb1",
   "metadata": {},
   "source": [
    "Observamos que los operadores aritméticos tampoco funcionan con datos de tipo `String`:"
   ]
  },
  {
   "cell_type": "code",
   "execution_count": 16,
   "id": "509a8357",
   "metadata": {},
   "outputs": [
    {
     "ename": "LoadError",
     "evalue": "MethodError: no method matching -(::String, ::String)",
     "output_type": "error",
     "traceback": [
      "MethodError: no method matching -(::String, ::String)",
      "",
      "Stacktrace:",
      " [1] top-level scope",
      "   @ In[16]:1"
     ]
    }
   ],
   "source": [
    "\"2.0\" - \"73.1\" # Julia los interpreta como String, no como Float"
   ]
  },
  {
   "cell_type": "markdown",
   "id": "bc9384ff",
   "metadata": {},
   "source": [
    "## Arreglos\n",
    "A menudo es deseable procesar conjuntos de datos en vez de datos por separado; por ejemplo, cuando queremos trabajar con vectores y matrices, graficar y analizar datos, o manipular imágenes. Para ello existen los arreglos de datos, que son una estructura que permite agrupar datos de tal forma que sean fáciles de accesar y operar.\n",
    "\n",
    "En Julia, un arreglo se crea cuando un conjunto de datos separados por un espacio es delimitado con corchetes `[]`:"
   ]
  },
  {
   "cell_type": "code",
   "execution_count": 26,
   "id": "368d92c6",
   "metadata": {
    "scrolled": true
   },
   "outputs": [
    {
     "data": {
      "text/plain": [
       "1×8 Matrix{Int64}:\n",
       " 1  2  3  4  5  6  7  8"
      ]
     },
     "execution_count": 26,
     "metadata": {},
     "output_type": "execute_result"
    }
   ],
   "source": [
    "[1 2 3  4 5 6  7 8 ]"
   ]
  },
  {
   "cell_type": "markdown",
   "id": "21eaba84",
   "metadata": {},
   "source": [
    "Vemos que surge un nuevo tipo de dato compuesto para el arreglo anterior: `Matrix{Int64}`. Además, Julia nos informa que nuestra matriz de enteros es de 1 renglón y 8 columnas. Más aún, si le aplicamos la función `typeof()` al arreglo anterior"
   ]
  },
  {
   "cell_type": "code",
   "execution_count": 25,
   "id": "ce6f7e75",
   "metadata": {},
   "outputs": [
    {
     "data": {
      "text/plain": [
       "Matrix{Int64}\u001b[90m (alias for \u001b[39m\u001b[90mArray{Int64, 2}\u001b[39m\u001b[90m)\u001b[39m"
      ]
     },
     "execution_count": 25,
     "metadata": {},
     "output_type": "execute_result"
    }
   ],
   "source": [
    "typeof([1 2 3  4 5 6  7 8 ])"
   ]
  },
  {
   "cell_type": "markdown",
   "id": "3f09c121",
   "metadata": {},
   "source": [
    "Podemos ver que `Matrix{Int64}` es simplemente un alias para el tipo de dato (compuesto) `Array{Int64, 2}`. Int64 se refiere al tipo de los datos contenidos en el arreglo y `2` se refiere al número de dimensiones del arreglo (como Julia considera a nuestro arreglo como una matriz de un renglón y ocho columnas, entonces tiene dos dimensiones)."
   ]
  },
  {
   "cell_type": "markdown",
   "id": "617370a7",
   "metadata": {},
   "source": [
    "\n",
    "\n",
    "### Matrices\n",
    "\n",
    "En el _notebook_ [`1.1-Operadores_aritméticos_y_tipos_de_datos_numéricos.ipynb`](./1.1-Operadores_aritméticos_y_tipos_de_datos_numéricos.ipynb) vimos cómo hacer operaciones entre números. Sin embargo, dada la utilidad de acomodar números en arreglos -como vectores y matrices- y hacer operaciones entre ellos, existe una implementación de lo anterior en Julia.\n",
    "\n",
    "Un arreglo en Julia es delimitado por corchetes `[]`. Para escribir una matriz, escribimos las entradas de un _vector renglón_ separadas por un espacio y utilizamos el símbolo `;` para crear la siguiente línea e introducir el siguiente vector renglón:"
   ]
  },
  {
   "cell_type": "code",
   "execution_count": 21,
   "id": "57006dcf",
   "metadata": {
    "scrolled": false
   },
   "outputs": [
    {
     "data": {
      "text/plain": [
       "3×3 Matrix{Int64}:\n",
       " 1  2  3\n",
       " 4  5  6\n",
       " 7  8  9"
      ]
     },
     "execution_count": 21,
     "metadata": {},
     "output_type": "execute_result"
    }
   ],
   "source": [
    "[1 2 3 ; 4 5 6 ; 7 8 9]"
   ]
  },
  {
   "cell_type": "markdown",
   "id": "337fc5df",
   "metadata": {},
   "source": [
    "Podemos usar los operadores aritméticos `+`, `-` y `*` para hacer operaciones entre matrices, siempre que las dimensiones coincidan de tal forma que la operacion esté bien definida:"
   ]
  },
  {
   "cell_type": "code",
   "execution_count": 27,
   "id": "cac1f3a8",
   "metadata": {},
   "outputs": [
    {
     "data": {
      "text/plain": [
       "3×3 Matrix{Int64}:\n",
       " 2  2   3\n",
       " 4  5   6\n",
       " 7  9  10"
      ]
     },
     "execution_count": 27,
     "metadata": {},
     "output_type": "execute_result"
    }
   ],
   "source": [
    "[1 2 3 ; 4 5 6 ; 7 8 9] + [1 0 0 ; 0 0 0 ; 0 1 1]"
   ]
  },
  {
   "cell_type": "code",
   "execution_count": 28,
   "id": "77d522e8",
   "metadata": {},
   "outputs": [
    {
     "ename": "LoadError",
     "evalue": "DimensionMismatch: dimensions must match: a has dims (Base.OneTo(2), Base.OneTo(3)), b has dims (Base.OneTo(3), Base.OneTo(3)), mismatch at 1",
     "output_type": "error",
     "traceback": [
      "DimensionMismatch: dimensions must match: a has dims (Base.OneTo(2), Base.OneTo(3)), b has dims (Base.OneTo(3), Base.OneTo(3)), mismatch at 1",
      "",
      "Stacktrace:",
      " [1] promote_shape",
      "   @ .\\indices.jl:178 [inlined]",
      " [2] promote_shape(a::Matrix{Int64}, b::Matrix{Int64})",
      "   @ Base .\\indices.jl:169",
      " [3] -(A::Matrix{Int64}, B::Matrix{Int64})",
      "   @ Base .\\arraymath.jl:7",
      " [4] top-level scope",
      "   @ In[28]:1"
     ]
    }
   ],
   "source": [
    "[1 2 3 ; 4 5 6] - [1 0 0 ; 0 0 0 ; 0 1 1]\n",
    "# Obtenemos un error porque las dimensiones no coindicen"
   ]
  },
  {
   "cell_type": "code",
   "execution_count": 29,
   "id": "c28004ae",
   "metadata": {},
   "outputs": [
    {
     "data": {
      "text/plain": [
       "2×2 Matrix{Int64}:\n",
       " 22  28\n",
       " 49  64"
      ]
     },
     "execution_count": 29,
     "metadata": {},
     "output_type": "execute_result"
    }
   ],
   "source": [
    "[1 2 3 ; 4 5 6] * [1 2 ; 3 4 ; 5 6]\n",
    "#= En este ejemplo, a pesar de que las dimensiones difieran, ¡lo hacen de\n",
    "   tal forma que la multiplicación de las matrices esté bien definida! =#"
   ]
  },
  {
   "cell_type": "markdown",
   "id": "9ac3bf08",
   "metadata": {},
   "source": [
    "Más aún, el operador `*` se puede usar para multiplicar una matriz por un escalar:"
   ]
  },
  {
   "cell_type": "code",
   "execution_count": 30,
   "id": "cc8a7831",
   "metadata": {
    "scrolled": true
   },
   "outputs": [
    {
     "data": {
      "text/plain": [
       "3×3 Matrix{Int64}:\n",
       "  5  10  15\n",
       " 20  25  30\n",
       " 35  40  45"
      ]
     },
     "execution_count": 30,
     "metadata": {},
     "output_type": "execute_result"
    }
   ],
   "source": [
    "5 * [1 2 3 ; 4 5 6 ; 7 8 9]"
   ]
  },
  {
   "cell_type": "code",
   "execution_count": 31,
   "id": "ce0db540",
   "metadata": {},
   "outputs": [
    {
     "data": {
      "text/plain": [
       "3×3 Matrix{Int64}:\n",
       "  5  10  15\n",
       " 20  25  30\n",
       " 35  40  45"
      ]
     },
     "execution_count": 31,
     "metadata": {},
     "output_type": "execute_result"
    }
   ],
   "source": [
    "[1 2 3 ; 4 5 6 ; 7 8 9] * 5"
   ]
  },
  {
   "cell_type": "markdown",
   "id": "52e55178",
   "metadata": {},
   "source": [
    "Sin embargo, esto falla para otros tipos de operaciones:"
   ]
  },
  {
   "cell_type": "code",
   "execution_count": 32,
   "id": "d079c415",
   "metadata": {},
   "outputs": [
    {
     "ename": "LoadError",
     "evalue": "MethodError: no method matching +(::Matrix{Int64}, ::Int64)\nFor element-wise addition, use broadcasting with dot syntax: array .+ scalar\n\u001b[0mClosest candidates are:\n\u001b[0m  +(::Any, ::Any, \u001b[91m::Any\u001b[39m, \u001b[91m::Any...\u001b[39m) at operators.jl:591\n\u001b[0m  +(\u001b[91m::T\u001b[39m, ::T) where T<:Union{Int128, Int16, Int32, Int64, Int8, UInt128, UInt16, UInt32, UInt64, UInt8} at int.jl:87\n\u001b[0m  +(\u001b[91m::Rational\u001b[39m, ::Integer) at rational.jl:313\n\u001b[0m  ...",
     "output_type": "error",
     "traceback": [
      "MethodError: no method matching +(::Matrix{Int64}, ::Int64)\nFor element-wise addition, use broadcasting with dot syntax: array .+ scalar\n\u001b[0mClosest candidates are:\n\u001b[0m  +(::Any, ::Any, \u001b[91m::Any\u001b[39m, \u001b[91m::Any...\u001b[39m) at operators.jl:591\n\u001b[0m  +(\u001b[91m::T\u001b[39m, ::T) where T<:Union{Int128, Int16, Int32, Int64, Int8, UInt128, UInt16, UInt32, UInt64, UInt8} at int.jl:87\n\u001b[0m  +(\u001b[91m::Rational\u001b[39m, ::Integer) at rational.jl:313\n\u001b[0m  ...",
      "",
      "Stacktrace:",
      " [1] top-level scope",
      "   @ In[32]:1"
     ]
    }
   ],
   "source": [
    "[1 2 3 ; 4 5 6 ; 7 8 9] + 5 # Esto nos devolverá un mensaje de error"
   ]
  },
  {
   "cell_type": "markdown",
   "id": "903d5e1c",
   "metadata": {},
   "source": [
    "Si queremos aplicar un operador a _cada una de las entradas de un arreglo_, generalmente funciona colocar un punto `.` antes del operador, como en los ejemplos siguientes:"
   ]
  },
  {
   "cell_type": "code",
   "execution_count": 33,
   "id": "83f5acd9",
   "metadata": {},
   "outputs": [
    {
     "data": {
      "text/plain": [
       "3×3 Matrix{Int64}:\n",
       "  6   7   8\n",
       "  9  10  11\n",
       " 12  13  14"
      ]
     },
     "execution_count": 33,
     "metadata": {},
     "output_type": "execute_result"
    }
   ],
   "source": [
    "[1 2 3 ; 4 5 6 ; 7 8 9] .+ 5 # Esto suma 5 a cada entrada de la matriz"
   ]
  },
  {
   "cell_type": "code",
   "execution_count": 34,
   "id": "d055d4a3",
   "metadata": {},
   "outputs": [
    {
     "data": {
      "text/plain": [
       "1×3 Matrix{Float64}:\n",
       " 5.0  2.5  6.2"
      ]
     },
     "execution_count": 34,
     "metadata": {},
     "output_type": "execute_result"
    }
   ],
   "source": [
    "[6.0 3.5 7.2] .- 1 # Esto resta el flotante 1.0 a cada entrada del vector"
   ]
  },
  {
   "cell_type": "markdown",
   "id": "46893b73",
   "metadata": {},
   "source": [
    "**Nota** A pesar de que en este caso utilicemos los operadores aritméticos para hacer operaciones entre _arreglos de números_ en vez de sólo números, estos tienen la misma precedencia y asociatividad que discutimos en el _notebook_ [`1.1-Operadores_aritméticos_y_tipos_de_datos_numéricos.ipynb`](./1.1-Operadores_aritméticos_y_tipos_de_datos_numéricos.ipynb)."
   ]
  },
  {
   "cell_type": "markdown",
   "id": "63308d7c",
   "metadata": {},
   "source": [
    "**Ejercicio** ¿Qué tipo de dato tiene la matriz `[1 2 3 ; 4 5 6 ; 7 8 9]`? ¿Es un tipo de dato primitivo o compuesto?\n",
    "\n",
    "Es un tipo de dato Int 64, lo que implica que es un dato primitivo."
   ]
  },
  {
   "cell_type": "code",
   "execution_count": 35,
   "id": "261485b7",
   "metadata": {},
   "outputs": [
    {
     "data": {
      "text/plain": [
       "Matrix{Int64}\u001b[90m (alias for \u001b[39m\u001b[90mArray{Int64, 2}\u001b[39m\u001b[90m)\u001b[39m"
      ]
     },
     "execution_count": 35,
     "metadata": {},
     "output_type": "execute_result"
    }
   ],
   "source": [
    "typeof([1 2 3 ; 4 5 6 ; 7 8 9]) # ¿Recuerdas qué función usar para averiguar esto?"
   ]
  },
  {
   "cell_type": "markdown",
   "id": "76e05395",
   "metadata": {},
   "source": [
    "**Nota** Es importante separar las entradas de las matrices con espacios pues, de lo contario, Julia las intentará interpretar como cifras de un mismo número. Sin embargo, el separador de renglones `;` no necesita que dejemos espacios antes ni después de él; aún así, recomendamos esta práctica para tener mayor claridad y legibilidad. "
   ]
  },
  {
   "cell_type": "markdown",
   "id": "d5d6761d",
   "metadata": {},
   "source": [
    "### Vectores\n",
    "\n",
    "Siguiendo la discusión anterior, si quisiéramos escribir a un vector al cual le podamos aplicar una matriz con el operador `*`, tendríamos que escribirlo como un _vector columna_, es decir, una matriz de una sola columna."
   ]
  },
  {
   "cell_type": "code",
   "execution_count": 36,
   "id": "206beb31",
   "metadata": {},
   "outputs": [
    {
     "data": {
      "text/plain": [
       "3-element Vector{Int64}:\n",
       " 1\n",
       " 2\n",
       " 3"
      ]
     },
     "execution_count": 36,
     "metadata": {},
     "output_type": "execute_result"
    }
   ],
   "source": [
    "[1 ; 2 ; 3]"
   ]
  },
  {
   "cell_type": "code",
   "execution_count": 37,
   "id": "15d43c36",
   "metadata": {},
   "outputs": [
    {
     "data": {
      "text/plain": [
       "3-element Vector{Int64}:\n",
       " 1\n",
       " 2\n",
       " 3"
      ]
     },
     "execution_count": 37,
     "metadata": {},
     "output_type": "execute_result"
    }
   ],
   "source": [
    "[1 0 0 ; 0 1 0 ; 0 0 1] * [1 ; 2 ; 3] # Aplicando la matriz identidad de 3x3"
   ]
  },
  {
   "cell_type": "markdown",
   "id": "31b4d29a",
   "metadata": {},
   "source": [
    "Una forma equivalente de escribir vectores es separando cada entrada con un símbolo de coma `,`:"
   ]
  },
  {
   "cell_type": "code",
   "execution_count": 38,
   "id": "7b385587",
   "metadata": {},
   "outputs": [
    {
     "data": {
      "text/plain": [
       "3-element Vector{Int64}:\n",
       " 1\n",
       " 2\n",
       " 3"
      ]
     },
     "execution_count": 38,
     "metadata": {},
     "output_type": "execute_result"
    }
   ],
   "source": [
    "[1, 2, 3]"
   ]
  },
  {
   "cell_type": "code",
   "execution_count": 39,
   "id": "43e3f681",
   "metadata": {},
   "outputs": [
    {
     "data": {
      "text/plain": [
       "3-element Vector{Int64}:\n",
       " 1\n",
       " 2\n",
       " 3"
      ]
     },
     "execution_count": 39,
     "metadata": {},
     "output_type": "execute_result"
    }
   ],
   "source": [
    "[1 0 0 ; 0 1 0 ; 0 0 1] * [1, 2, 3]"
   ]
  },
  {
   "cell_type": "markdown",
   "id": "a352f1a3",
   "metadata": {},
   "source": [
    "Es decir, si escribimos un arreglo de números separados por comas como `[a, b, c, d]`, Julia lo interpretará como el vector columna con entradas `a`, `b`, `c` y `d`, equivalente a la matriz de una sola columna `[a ; b ; c ; d]`."
   ]
  },
  {
   "cell_type": "markdown",
   "id": "bb798dc6",
   "metadata": {},
   "source": [
    "Esto es reminiscente a cómo, en matemáticas, normalmente escribimos vectores de algún espacio $K^n$\n",
    " (donde $K$\n",
    " es un campo) como $(a,b,c,...)$ \n",
    " pero, al multiplicarlos por una matriz, por conveniencia preferimos escribirlos como\n",
    "  $\\begin{pmatrix} a \\\\ b \\\\ c \\\\. \\\\. \\\\. \\end{pmatrix}$\n",
    "  \n",
    "  \n",
    "  lo cual implica una equivalencia entre este vector columna y la $n$-tupla $(a,b,c,..)$\n",
    "."
   ]
  },
  {
   "cell_type": "markdown",
   "id": "d9d566fc",
   "metadata": {},
   "source": [
    "**Ejercicio** ¿Qué tipo de dato tiene el vector `[6.0, 3.5, 7.2]`?\n",
    "\n",
    "Es un tipo de dato float64, por lo que es un dato primitivo."
   ]
  },
  {
   "cell_type": "code",
   "execution_count": 40,
   "id": "2e02f3e5",
   "metadata": {},
   "outputs": [
    {
     "data": {
      "text/plain": [
       "Vector{Float64}\u001b[90m (alias for \u001b[39m\u001b[90mArray{Float64, 1}\u001b[39m\u001b[90m)\u001b[39m"
      ]
     },
     "execution_count": 40,
     "metadata": {},
     "output_type": "execute_result"
    }
   ],
   "source": [
    "typeof([6.0, 3.5, 7.2])"
   ]
  },
  {
   "cell_type": "code",
   "execution_count": 41,
   "id": "8d9420d1",
   "metadata": {},
   "outputs": [
    {
     "data": {
      "text/plain": [
       "3-element Vector{Float64}:\n",
       " 6.0\n",
       " 3.5\n",
       " 7.2"
      ]
     },
     "execution_count": 41,
     "metadata": {},
     "output_type": "execute_result"
    }
   ],
   "source": [
    "[6.0, 3.5, 7.2]"
   ]
  },
  {
   "cell_type": "code",
   "execution_count": 42,
   "id": "d53211c0",
   "metadata": {},
   "outputs": [
    {
     "data": {
      "text/plain": [
       "Vector{Float64}\u001b[90m (alias for \u001b[39m\u001b[90mArray{Float64, 1}\u001b[39m\u001b[90m)\u001b[39m"
      ]
     },
     "execution_count": 42,
     "metadata": {},
     "output_type": "execute_result"
    }
   ],
   "source": [
    "typeof([6.0, 3.5, 7.2])"
   ]
  },
  {
   "cell_type": "code",
   "execution_count": 43,
   "id": "7ff3d0a1",
   "metadata": {},
   "outputs": [
    {
     "data": {
      "text/plain": [
       "3×3 Matrix{Int64}:\n",
       " 1  2  3\n",
       " 4  5  6\n",
       " 7  8  9"
      ]
     },
     "execution_count": 43,
     "metadata": {},
     "output_type": "execute_result"
    }
   ],
   "source": [
    "[1 2 3 ; 4 5 6 ; 7 8 9]"
   ]
  },
  {
   "cell_type": "code",
   "execution_count": 44,
   "id": "ba073e25",
   "metadata": {},
   "outputs": [
    {
     "data": {
      "text/plain": [
       "Matrix{Int64}\u001b[90m (alias for \u001b[39m\u001b[90mArray{Int64, 2}\u001b[39m\u001b[90m)\u001b[39m"
      ]
     },
     "execution_count": 44,
     "metadata": {},
     "output_type": "execute_result"
    }
   ],
   "source": [
    "typeof([1 2 3 ; 4 5 6 ; 7 8 9])"
   ]
  },
  {
   "cell_type": "markdown",
   "id": "b67af3aa",
   "metadata": {},
   "source": [
    "### Índices y subarreglos\n",
    "\n",
    "¿Qué hacemos si queremos acceder al valor de alguna entrada específica de un vector? Julia le asigna a cada entrada de un vector un _índice_ que **empieza por el número `1`**. Para acceder a la $i$-ésima entrada de un vector, debemos escribir `[i]` a la derecha del vector _sin dejar espacio_: "
   ]
  },
  {
   "cell_type": "code",
   "execution_count": 45,
   "id": "79417565",
   "metadata": {},
   "outputs": [
    {
     "data": {
      "text/plain": [
       "10"
      ]
     },
     "execution_count": 45,
     "metadata": {},
     "output_type": "execute_result"
    }
   ],
   "source": [
    "[10, 8, 5][1]"
   ]
  },
  {
   "cell_type": "code",
   "execution_count": 46,
   "id": "adfa59f8",
   "metadata": {},
   "outputs": [
    {
     "data": {
      "text/plain": [
       "8"
      ]
     },
     "execution_count": 46,
     "metadata": {},
     "output_type": "execute_result"
    }
   ],
   "source": [
    "[10, 8, 5][2]"
   ]
  },
  {
   "cell_type": "code",
   "execution_count": 47,
   "id": "5ebfd884",
   "metadata": {},
   "outputs": [
    {
     "ename": "LoadError",
     "evalue": "syntax: space before \"[\" not allowed in \"[10, 8, 5] [\" at In[47]:1",
     "output_type": "error",
     "traceback": [
      "syntax: space before \"[\" not allowed in \"[10, 8, 5] [\" at In[47]:1",
      "",
      "Stacktrace:",
      " [1] top-level scope",
      "   @ In[47]:1"
     ]
    }
   ],
   "source": [
    "[10, 8, 5] [3] # Obtenemos un error inicialmente por haber dejado un espacio"
   ]
  },
  {
   "cell_type": "markdown",
   "id": "9fd17b15",
   "metadata": {},
   "source": [
    "**Ejercicio** Averigua qué sucede cuando intentamos acceder a la $i$-ésima entrada de la siguiente matriz para $1\\leq i \\leq9$:"
   ]
  },
  {
   "cell_type": "code",
   "execution_count": 52,
   "id": "475a00e3",
   "metadata": {},
   "outputs": [
    {
     "data": {
      "text/plain": [
       "1"
      ]
     },
     "execution_count": 52,
     "metadata": {},
     "output_type": "execute_result"
    }
   ],
   "source": [
    "[1 2 3 ; 4 5 6 ; 7 8 9][1]"
   ]
  },
  {
   "cell_type": "code",
   "execution_count": 53,
   "id": "6d93ae10",
   "metadata": {},
   "outputs": [
    {
     "data": {
      "text/plain": [
       "4"
      ]
     },
     "execution_count": 53,
     "metadata": {},
     "output_type": "execute_result"
    }
   ],
   "source": [
    "[1 2 3 ; 4 5 6 ; 7 8 9][2]"
   ]
  },
  {
   "cell_type": "code",
   "execution_count": 54,
   "id": "e054209b",
   "metadata": {},
   "outputs": [
    {
     "data": {
      "text/plain": [
       "7"
      ]
     },
     "execution_count": 54,
     "metadata": {},
     "output_type": "execute_result"
    }
   ],
   "source": [
    "[1 2 3 ; 4 5 6 ; 7 8 9][3]"
   ]
  },
  {
   "cell_type": "code",
   "execution_count": 55,
   "id": "f67bf67b",
   "metadata": {},
   "outputs": [
    {
     "data": {
      "text/plain": [
       "2"
      ]
     },
     "execution_count": 55,
     "metadata": {},
     "output_type": "execute_result"
    }
   ],
   "source": [
    "[1 2 3 ; 4 5 6 ; 7 8 9][4]"
   ]
  },
  {
   "cell_type": "code",
   "execution_count": 56,
   "id": "543521ab",
   "metadata": {},
   "outputs": [
    {
     "data": {
      "text/plain": [
       "5"
      ]
     },
     "execution_count": 56,
     "metadata": {},
     "output_type": "execute_result"
    }
   ],
   "source": [
    "[1 2 3 ; 4 5 6 ; 7 8 9][5]"
   ]
  },
  {
   "cell_type": "code",
   "execution_count": 57,
   "id": "1ac1bc29",
   "metadata": {},
   "outputs": [
    {
     "data": {
      "text/plain": [
       "8"
      ]
     },
     "execution_count": 57,
     "metadata": {},
     "output_type": "execute_result"
    }
   ],
   "source": [
    "[1 2 3 ; 4 5 6 ; 7 8 9][6]"
   ]
  },
  {
   "cell_type": "code",
   "execution_count": 58,
   "id": "47693e03",
   "metadata": {},
   "outputs": [
    {
     "data": {
      "text/plain": [
       "3"
      ]
     },
     "execution_count": 58,
     "metadata": {},
     "output_type": "execute_result"
    }
   ],
   "source": [
    "[1 2 3 ; 4 5 6 ; 7 8 9][7]"
   ]
  },
  {
   "cell_type": "code",
   "execution_count": 59,
   "id": "68be8e83",
   "metadata": {},
   "outputs": [
    {
     "data": {
      "text/plain": [
       "6"
      ]
     },
     "execution_count": 59,
     "metadata": {},
     "output_type": "execute_result"
    }
   ],
   "source": [
    "[1 2 3 ; 4 5 6 ; 7 8 9][8]"
   ]
  },
  {
   "cell_type": "code",
   "execution_count": 60,
   "id": "68b6b3e7",
   "metadata": {},
   "outputs": [
    {
     "data": {
      "text/plain": [
       "9"
      ]
     },
     "execution_count": 60,
     "metadata": {},
     "output_type": "execute_result"
    }
   ],
   "source": [
    "[1 2 3 ; 4 5 6 ; 7 8 9][9]"
   ]
  },
  {
   "cell_type": "markdown",
   "id": "adf5d84a",
   "metadata": {},
   "source": [
    "Una manera más sencilla de acceder a la entrada del renglón $i$ y columna $j$ de una matriz es utilizando la sintáxis `[i,j]`:"
   ]
  },
  {
   "cell_type": "code",
   "execution_count": 61,
   "id": "e226bdc3",
   "metadata": {},
   "outputs": [
    {
     "data": {
      "text/plain": [
       "5"
      ]
     },
     "execution_count": 61,
     "metadata": {},
     "output_type": "execute_result"
    }
   ],
   "source": [
    "[1 2 3 ; 4 5 6 ; 7 8 9][2,2]"
   ]
  },
  {
   "cell_type": "code",
   "execution_count": 62,
   "id": "d471494a",
   "metadata": {},
   "outputs": [
    {
     "data": {
      "text/plain": [
       "7"
      ]
     },
     "execution_count": 62,
     "metadata": {},
     "output_type": "execute_result"
    }
   ],
   "source": [
    "[1 2 3 ; 4 5 6 ; 7 8 9][3,1]"
   ]
  },
  {
   "cell_type": "markdown",
   "id": "9b4e36ad",
   "metadata": {},
   "source": [
    "Nuestra siguiente pregunta es: ¿qué hacemos si queremos acceder a algún _vector renglón_ o _vector columna_ de una matriz? Para acceder al $i$-ésimo vector renglón, utilizamos la sintáxis `[i,:]`:"
   ]
  },
  {
   "cell_type": "code",
   "execution_count": 63,
   "id": "2eec926e",
   "metadata": {},
   "outputs": [
    {
     "data": {
      "text/plain": [
       "7"
      ]
     },
     "execution_count": 63,
     "metadata": {},
     "output_type": "execute_result"
    }
   ],
   "source": [
    "[1 2 3 ; 4 5 6 ; 7 8 9][3]   # Compara el resultado de esta celda..."
   ]
  },
  {
   "cell_type": "code",
   "execution_count": 64,
   "id": "0d44a563",
   "metadata": {},
   "outputs": [
    {
     "data": {
      "text/plain": [
       "3-element Vector{Int64}:\n",
       " 7\n",
       " 8\n",
       " 9"
      ]
     },
     "execution_count": 64,
     "metadata": {},
     "output_type": "execute_result"
    }
   ],
   "source": [
    "[1 2 3 ; 4 5 6 ; 7 8 9][3,:] # ...con el de ésta."
   ]
  },
  {
   "cell_type": "markdown",
   "id": "78cd711b",
   "metadata": {},
   "source": [
    "Análogamente, para acceder al `j`-ésimo vector columna, utilizamos la sintáxis `[:,j]`:"
   ]
  },
  {
   "cell_type": "code",
   "execution_count": 65,
   "id": "255a1abd",
   "metadata": {},
   "outputs": [
    {
     "data": {
      "text/plain": [
       "3-element Vector{Int64}:\n",
       " 3\n",
       " 6\n",
       " 9"
      ]
     },
     "execution_count": 65,
     "metadata": {},
     "output_type": "execute_result"
    }
   ],
   "source": [
    "[1 2 3 ; 4 5 6 ; 7 8 9][:,3]"
   ]
  },
  {
   "cell_type": "markdown",
   "id": "3f1def08",
   "metadata": {},
   "source": [
    "Puedes pensar que el símbolo `:` significa \"todos los valores posibles\" en la entrada correspondiente de `[i,j]`. La razón de esto quedará clara cuando veamos _rangos_.\n",
    "\n",
    "Los ejemplos anteriores muestran que un arreglo contiene _subarreglos_ a los cuales podemos acceder. Más generalmente, para obtener un arreglo con las entradas $i$, $j$ y $k$ de otro arreglo, podemos utilizar la sintáxis `[[i,j,k]]`:"
   ]
  },
  {
   "cell_type": "code",
   "execution_count": 66,
   "id": "7dd440df",
   "metadata": {},
   "outputs": [
    {
     "data": {
      "text/plain": [
       "3-element Vector{Int64}:\n",
       " 1\n",
       " 5\n",
       " 9"
      ]
     },
     "execution_count": 66,
     "metadata": {},
     "output_type": "execute_result"
    }
   ],
   "source": [
    "[1, 3, 5, 7, 9][[1,3,5]]"
   ]
  },
  {
   "cell_type": "markdown",
   "id": "2ccc7e68",
   "metadata": {},
   "source": [
    "Notamos que en este caso en vez de escribir un sólo índice dentro de los corchetes `[]`, escribimos un _arreglo de índices_, obteniendo como resultado el _subarreglo_ que se obtiene con las entradas correspondientes a esos índices."
   ]
  },
  {
   "cell_type": "markdown",
   "id": "33bc3b1b",
   "metadata": {},
   "source": [
    "### `String` como arreglos de `Char`\n",
    "\n",
    "Los datos de tipo `String` en realidad son arreglos de datos de tipo `Char`, por lo que podemos acceder a cualquiera de sus entradas (que serán datos de tipo `Char`) o de sus subarreglos (que serán de tipo `String`):"
   ]
  },
  {
   "cell_type": "code",
   "execution_count": 67,
   "id": "462cb71a",
   "metadata": {},
   "outputs": [
    {
     "data": {
      "text/plain": [
       "\"¡Hola, mundo!\""
      ]
     },
     "execution_count": 67,
     "metadata": {},
     "output_type": "execute_result"
    }
   ],
   "source": [
    "\"¡Hola, mundo!\""
   ]
  },
  {
   "cell_type": "code",
   "execution_count": 70,
   "id": "1a88ce90",
   "metadata": {},
   "outputs": [
    {
     "data": {
      "text/plain": [
       "'¡': Unicode U+00A1 (category Po: Punctuation, other)"
      ]
     },
     "execution_count": 70,
     "metadata": {},
     "output_type": "execute_result"
    }
   ],
   "source": [
    "\"¡Hola, mundo!\"[1]     "
   ]
  },
  {
   "cell_type": "code",
   "execution_count": 71,
   "id": "d04cd51a",
   "metadata": {},
   "outputs": [
    {
     "data": {
      "text/plain": [
       "\"¡Hola!\""
      ]
     },
     "execution_count": 71,
     "metadata": {},
     "output_type": "execute_result"
    }
   ],
   "source": [
    "\"¡Hola, mundo!\"[[1,3,4,5,6,14]]"
   ]
  },
  {
   "cell_type": "markdown",
   "id": "f925b178",
   "metadata": {},
   "source": [
    "**Nota** Tal vez hayas observado algo extraño en los índices de la última celda de código: a pesar de que el caracter '¡' corresponde al índice 1 de nuestro String, el siguiente caracter ('H') corresponde al índice 3. ¿Qué sucederá entonces si intentamos acceder al segundo índice?"
   ]
  },
  {
   "cell_type": "code",
   "execution_count": 72,
   "id": "5a22b818",
   "metadata": {},
   "outputs": [
    {
     "ename": "LoadError",
     "evalue": "StringIndexError: invalid index [2], valid nearby indices [1]=>'¡', [3]=>'H'",
     "output_type": "error",
     "traceback": [
      "StringIndexError: invalid index [2], valid nearby indices [1]=>'¡', [3]=>'H'",
      "",
      "Stacktrace:",
      " [1] string_index_err(s::String, i::Int64)",
      "   @ Base .\\strings\\string.jl:12",
      " [2] getindex_continued(s::String, i::Int64, u::UInt32)",
      "   @ Base .\\strings\\string.jl:237",
      " [3] getindex(s::String, i::Int64)",
      "   @ Base .\\strings\\string.jl:230",
      " [4] top-level scope",
      "   @ In[72]:1"
     ]
    }
   ],
   "source": [
    "\"¡Hola, mundo!\"[2]  "
   ]
  },
  {
   "cell_type": "markdown",
   "id": "a82e4539",
   "metadata": {},
   "source": [
    "Obtenemos un mensaje de error que confirma nuestra sospecha: nos dice que el índice 1 le corresponde a '¡', y el 3, a 'H', además de decirnos implícitamente que el índice 2 es \"inválido\". La explicación de este fenómeno es un poco técnica pero, básicamente, un índice de un String no se refiere específicamente a un Char, sino a una \"unidad de código\" con una cantidad fija de memoria, y para ser almacenados algunos caracteres (como '¡') requieren una cantidad de memoria mayor a la que ofrece una sola unidad de código.\n",
    "\n",
    "En general, observar detalles como éste e investigarlos por nuestra cuenta es una excelente forma de aprender programación, y más aún cuando pensamos en algunas hipótesis y diseñamos pequeños experimentos con código para ponerlas a prueba."
   ]
  },
  {
   "cell_type": "markdown",
   "id": "f18c8235",
   "metadata": {},
   "source": [
    "**Ejercicio** ¿Cuántas palabras puedes formar con las letras de la frase \"¡Hola, mundo!\"? Obten los _Strings_ correspondientes accediendo a subarreglos del `String` `\"¡Hola, mundo!\"`."
   ]
  },
  {
   "cell_type": "code",
   "execution_count": 74,
   "id": "c5d2e15c",
   "metadata": {},
   "outputs": [
    {
     "data": {
      "text/plain": [
       "\"ola\""
      ]
     },
     "execution_count": 74,
     "metadata": {},
     "output_type": "execute_result"
    }
   ],
   "source": [
    "\"¡Hola, mundo!\"[[4,5,6]]"
   ]
  },
  {
   "cell_type": "code",
   "execution_count": 80,
   "id": "d279f4fb",
   "metadata": {},
   "outputs": [
    {
     "data": {
      "text/plain": [
       "\"mudo\""
      ]
     },
     "execution_count": 80,
     "metadata": {},
     "output_type": "execute_result"
    }
   ],
   "source": [
    "\"¡Hola, mundo!\"[[9,10,12,13]]"
   ]
  },
  {
   "cell_type": "code",
   "execution_count": 81,
   "id": "f7866904",
   "metadata": {},
   "outputs": [
    {
     "data": {
      "text/plain": [
       "\"lado\""
      ]
     },
     "execution_count": 81,
     "metadata": {},
     "output_type": "execute_result"
    }
   ],
   "source": [
    "\"¡Hola, mundo!\"[[5,6,12,13]]"
   ]
  },
  {
   "cell_type": "code",
   "execution_count": 84,
   "id": "81fa3ca4",
   "metadata": {},
   "outputs": [
    {
     "data": {
      "text/plain": [
       "\"mando\""
      ]
     },
     "execution_count": 84,
     "metadata": {},
     "output_type": "execute_result"
    }
   ],
   "source": [
    "\"¡Hola, mundo!\"[[9,6,11,12,13]]"
   ]
  },
  {
   "cell_type": "code",
   "execution_count": 85,
   "id": "4bb65e2d",
   "metadata": {},
   "outputs": [
    {
     "data": {
      "text/plain": [
       "\"Hundo\""
      ]
     },
     "execution_count": 85,
     "metadata": {},
     "output_type": "execute_result"
    }
   ],
   "source": [
    "\"¡Hola, mundo!\"[[3,10,11,12,13]]"
   ]
  },
  {
   "cell_type": "markdown",
   "id": "616ffc26",
   "metadata": {},
   "source": [
    "## Recursos complementarios\n",
    "\n",
    "Documentación de Julia:\n",
    "* [Manual de arreglos](https://docs.julialang.org/en/v1/manual/arrays/),\n",
    "* [Manual de `String`s](https://docs.julialang.org/en/v1/manual/strings/),\n",
    "* [Documentación de arreglos](https://docs.julialang.org/en/v1/base/arrays/#Concatenation-and-permutation)."
   ]
  }
 ],
 "metadata": {
  "kernelspec": {
   "display_name": "Julia 1.8.5",
   "language": "julia",
   "name": "julia-1.8"
  },
  "language_info": {
   "file_extension": ".jl",
   "mimetype": "application/julia",
   "name": "julia",
   "version": "1.8.5"
  }
 },
 "nbformat": 4,
 "nbformat_minor": 5
}
